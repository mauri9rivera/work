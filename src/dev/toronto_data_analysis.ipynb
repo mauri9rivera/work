{
 "cells": [
  {
   "cell_type": "code",
   "execution_count": 44,
   "metadata": {},
   "outputs": [],
   "source": [
    "import pandas as pd\n",
    "from functools import reduce\n",
    "import matplotlib.pyplot as plt\n",
    "import numpy as np\n",
    "import re\n",
    "from lifelines import KaplanMeierFitter\n"
   ]
  },
  {
   "cell_type": "markdown",
   "metadata": {},
   "source": [
    "## Global params and functions"
   ]
  },
  {
   "cell_type": "code",
   "execution_count": 48,
   "metadata": {},
   "outputs": [],
   "source": [
    "# Load the Excel file\n",
    "FILEPATH = r\"C:\\Users\\User\\OneDrive\\Documents\\Udem\\SciNeurotech\\Toronto_project\\DBS_Torontov2.xlsx\"\n",
    "EXCEL_DATA = pd.ExcelFile(FILEPATH)\n",
    "\n"
   ]
  },
  {
   "cell_type": "code",
   "execution_count": 49,
   "metadata": {},
   "outputs": [],
   "source": [
    "def simple_barplot(df, cols):\n",
    "\n",
    "    fig, axs = plt.subplots(1, len(cols), figsize=(20, 8))\n",
    "    for i in range (len(cols)):\n",
    "\n",
    "        counts = df[cols[i]].dropna().value_counts()\n",
    "        axs[i].bar(counts.index, counts.values, width=0.4, edgecolor=\"white\", linewidth=0.7)\n",
    "        axs[i].set_title(f'Bar graph of {cols[i]}')\n",
    "\n",
    "\n",
    "    plt.tight_layout()\n",
    "    plt.show()\n",
    "\n",
    "def print_side_effects(df):\n",
    "\n",
    "    side_effects = df[~df['Notes'].astype(str).str.contains('baseline', case=False, na=False)]['Notes'].value_counts()\n",
    "    print(f'Side effects: \\n{side_effects}')\n",
    "\n",
    "def convert_time_to_minutes(time):\n",
    "    if isinstance(time, str):\n",
    "        if '.' in time:\n",
    "            parts = re.split(r'[.:]', time)\n",
    "            if len(parts) == 3:\n",
    "                # Format \"H.MM.SS\" -> Convert to minutes\n",
    "                hours, minutes, seconds = int(parts[0]), int(parts[1]), int(parts[2])\n",
    "                total_minutes = hours * 60 + minutes + seconds / 60\n",
    "                return total_minutes\n",
    "            elif len(parts) == 2:\n",
    "                # Format \"MM.SS\" -> Convert to minutes\n",
    "                minutes, seconds = int(parts[0]), int(parts[1])\n",
    "                return minutes + seconds / 60\n",
    "        elif time.isnumeric():\n",
    "            # Already in minutes\n",
    "            return float(time)\n",
    "    return float(time)\n",
    "\n",
    "def temporal_graph(df, sheet_name, symptom):\n",
    "    \"\"\"\n",
    "    Get's the temporal evolutionn of a symptom for a given experiment.\n",
    "    \"\"\"\n",
    "    #print(df.loc[(df['Sheet Name'] == sheet_name)]).copy()\n",
    "    df_filtered = df.loc[(df['Sheet Name'] == sheet_name) & (df['Time'] != -1)].copy()\n",
    "    df_filtered['Time_filtered'] = df_filtered['Time'].apply(convert_time_to_minutes)\n",
    "\n",
    "    # Plot the symptom over time\n",
    "    plt.figure(figsize=(10, 6))\n",
    "    plt.plot(df_filtered['Time_filtered'], df_filtered[symptom], marker='o', linestyle='-')\n",
    "    plt.xlabel('Time (minutes)')\n",
    "    plt.ylabel(symptom)\n",
    "    plt.title(f'Temporal Evolution of {symptom} for {sheet_name}')\n",
    "    plt.grid(True)\n",
    "    plt.show()\n",
    "    pass\n",
    "\n",
    "def survival_plots(dfs, sheet, symptom, death_value):\n",
    "\n",
    "    df = pd.concat(dfs, ignore_index=True)\n",
    "    df = df.loc[(df['Sheet Name'] == sheet)].copy()\n",
    "    df = df[[symptom, 'Param']].dropna(subset=[symptom, 'Param'])\n",
    "    df['event'] = df[symptom] == death_value\n",
    "\n",
    "    durations = df['Param']\n",
    "    events = df['event']\n",
    "    # Instantiate the KaplanMeierFitter and fit the data\n",
    "    kmf = KaplanMeierFitter()\n",
    "    kmf.fit(durations, event_observed=events)\n",
    "\n",
    "    # Plot the survival curve\n",
    "    kmf.plot_survival_function()\n",
    "    plt.title(f\"Survival Plot of {sheet}\")\n",
    "    plt.xlabel(f\"Parameter {sheet}\")\n",
    "    plt.ylabel(f\"Survival Probability for {symptom} == {death_value}\")\n",
    "    plt.grid(True)\n",
    "    plt.show()\n",
    "\n",
    "\n",
    "def survival(dfs, sheet, death_value):\n",
    "\n",
    "    df = pd.concat(dfs, ignore_index=True)\n",
    "    df = df.loc[(df['Sheet Name'] == sheet)].copy()\n",
    "    df = df[['Param', 'Notes']].dropna(subset=['Param'])\n",
    "    df['event'] = df['Notes'].fillna(0).apply(lambda x: 1 if x != 0 else 0)\n",
    "    for index, content in enumerate(df['event']):\n",
    "\n",
    "        if index == 0:\n",
    "            continue\n",
    "        if content == 1:\n",
    "            df.loc[index, 'event'] = 0\n",
    "            df.loc[index - 1, 'event'] = 1\n",
    "\n",
    "\n",
    "    print(df['Param'].isnull().value_counts())\n",
    "\n",
    "    durations = df['Param'].fillna(0)\n",
    "    events = df['event']\n",
    "    # Instantiate the KaplanMeierFitter and fit the data\n",
    "    kmf = KaplanMeierFitter()\n",
    "    kmf.fit(durations, event_observed=events)\n",
    "\n",
    "    # Plot the survival curve\n",
    "    kmf.plot_survival_function()\n",
    "    plt.title(f\"Survival Plot of {sheet}\")\n",
    "    plt.xlabel(f\"Parameter {sheet}\")\n",
    "    plt.ylabel(f\"Survival Probability\")\n",
    "    plt.grid(True)\n",
    "    plt.show()\n",
    "\n",
    "\n"
   ]
  },
  {
   "cell_type": "markdown",
   "metadata": {},
   "source": [
    "# Extracting each patient dataframes"
   ]
  },
  {
   "cell_type": "code",
   "execution_count": 69,
   "metadata": {},
   "outputs": [],
   "source": [
    "GP3_df = pd.read_excel(EXCEL_DATA, EXCEL_DATA.sheet_names[0])\n",
    "STN1_df = pd.read_excel(EXCEL_DATA, EXCEL_DATA.sheet_names[1])\n",
    "STN2_df = pd.read_excel(EXCEL_DATA, EXCEL_DATA.sheet_names[2])\n",
    "STN3_df = pd.read_excel(EXCEL_DATA, EXCEL_DATA.sheet_names[3])\n",
    "STN4_df = pd.read_excel(EXCEL_DATA, EXCEL_DATA.sheet_names[4])\n",
    "STN5_df = pd.read_excel(EXCEL_DATA, EXCEL_DATA.sheet_names[5])\n",
    "STN6_df = pd.read_excel(EXCEL_DATA, EXCEL_DATA.sheet_names[6])\n"
   ]
  },
  {
   "cell_type": "markdown",
   "metadata": {},
   "source": [
    "## Simple visualization"
   ]
  },
  {
   "cell_type": "code",
   "execution_count": 51,
   "metadata": {},
   "outputs": [
    {
     "data": {
      "text/html": [
       "<div>\n",
       "<style scoped>\n",
       "    .dataframe tbody tr th:only-of-type {\n",
       "        vertical-align: middle;\n",
       "    }\n",
       "\n",
       "    .dataframe tbody tr th {\n",
       "        vertical-align: top;\n",
       "    }\n",
       "\n",
       "    .dataframe thead th {\n",
       "        text-align: right;\n",
       "    }\n",
       "</style>\n",
       "<table border=\"1\" class=\"dataframe\">\n",
       "  <thead>\n",
       "    <tr style=\"text-align: right;\">\n",
       "      <th></th>\n",
       "      <th>Test</th>\n",
       "      <th>L Finger Tap</th>\n",
       "      <th>R Finger Tap</th>\n",
       "      <th>L Rigidity</th>\n",
       "      <th>R Rigidity</th>\n",
       "      <th>L Rest Trem</th>\n",
       "      <th>R Rest Trem</th>\n",
       "      <th>Speech</th>\n",
       "      <th>Spiral</th>\n",
       "      <th>Notes</th>\n",
       "      <th>Time</th>\n",
       "      <th>Param</th>\n",
       "      <th>Sheet Name</th>\n",
       "    </tr>\n",
       "  </thead>\n",
       "  <tbody>\n",
       "    <tr>\n",
       "      <th>0</th>\n",
       "      <td>0</td>\n",
       "      <td>2.0</td>\n",
       "      <td>3.0</td>\n",
       "      <td>2.0</td>\n",
       "      <td>1.0</td>\n",
       "      <td>2.0</td>\n",
       "      <td>1.0</td>\n",
       "      <td>2.0</td>\n",
       "      <td>0.0</td>\n",
       "      <td>-2</td>\n",
       "      <td>NaN</td>\n",
       "      <td>NaN</td>\n",
       "      <td>Baseline</td>\n",
       "    </tr>\n",
       "    <tr>\n",
       "      <th>1</th>\n",
       "      <td>1</td>\n",
       "      <td>2.0</td>\n",
       "      <td>3.0</td>\n",
       "      <td>2.0</td>\n",
       "      <td>1.0</td>\n",
       "      <td>2.0</td>\n",
       "      <td>1.0</td>\n",
       "      <td>2.0</td>\n",
       "      <td>NaN</td>\n",
       "      <td>2</td>\n",
       "      <td>NaN</td>\n",
       "      <td>NaN</td>\n",
       "      <td>Baseline</td>\n",
       "    </tr>\n",
       "    <tr>\n",
       "      <th>2</th>\n",
       "      <td>64</td>\n",
       "      <td>2.0</td>\n",
       "      <td>2.0</td>\n",
       "      <td>0.0</td>\n",
       "      <td>0.0</td>\n",
       "      <td>0.0</td>\n",
       "      <td>0.0</td>\n",
       "      <td>2.0</td>\n",
       "      <td>NaN</td>\n",
       "      <td>2</td>\n",
       "      <td>NaN</td>\n",
       "      <td>NaN</td>\n",
       "      <td>Baseline</td>\n",
       "    </tr>\n",
       "    <tr>\n",
       "      <th>3</th>\n",
       "      <td>65</td>\n",
       "      <td>2.0</td>\n",
       "      <td>1.0</td>\n",
       "      <td>0.0</td>\n",
       "      <td>0.0</td>\n",
       "      <td>0.0</td>\n",
       "      <td>0.0</td>\n",
       "      <td>2.0</td>\n",
       "      <td>NaN</td>\n",
       "      <td>3</td>\n",
       "      <td>NaN</td>\n",
       "      <td>NaN</td>\n",
       "      <td>Baseline</td>\n",
       "    </tr>\n",
       "    <tr>\n",
       "      <th>4</th>\n",
       "      <td>2</td>\n",
       "      <td>2.0</td>\n",
       "      <td>NaN</td>\n",
       "      <td>2.0</td>\n",
       "      <td>NaN</td>\n",
       "      <td>1.0</td>\n",
       "      <td>NaN</td>\n",
       "      <td>2.0</td>\n",
       "      <td>NaN</td>\n",
       "      <td>0</td>\n",
       "      <td>NaN</td>\n",
       "      <td>0.5</td>\n",
       "      <td>Contact 0</td>\n",
       "    </tr>\n",
       "    <tr>\n",
       "      <th>5</th>\n",
       "      <td>3</td>\n",
       "      <td>2.0</td>\n",
       "      <td>NaN</td>\n",
       "      <td>1.0</td>\n",
       "      <td>NaN</td>\n",
       "      <td>0.0</td>\n",
       "      <td>NaN</td>\n",
       "      <td>2.0</td>\n",
       "      <td>NaN</td>\n",
       "      <td>0</td>\n",
       "      <td>NaN</td>\n",
       "      <td>1.0</td>\n",
       "      <td>Contact 0</td>\n",
       "    </tr>\n",
       "    <tr>\n",
       "      <th>6</th>\n",
       "      <td>4</td>\n",
       "      <td>1.0</td>\n",
       "      <td>NaN</td>\n",
       "      <td>0.0</td>\n",
       "      <td>NaN</td>\n",
       "      <td>0.0</td>\n",
       "      <td>NaN</td>\n",
       "      <td>2.0</td>\n",
       "      <td>NaN</td>\n",
       "      <td>0</td>\n",
       "      <td>NaN</td>\n",
       "      <td>1.5</td>\n",
       "      <td>Contact 0</td>\n",
       "    </tr>\n",
       "    <tr>\n",
       "      <th>7</th>\n",
       "      <td>5</td>\n",
       "      <td>1.0</td>\n",
       "      <td>NaN</td>\n",
       "      <td>0.0</td>\n",
       "      <td>NaN</td>\n",
       "      <td>0.0</td>\n",
       "      <td>NaN</td>\n",
       "      <td>2.0</td>\n",
       "      <td>NaN</td>\n",
       "      <td>0</td>\n",
       "      <td>NaN</td>\n",
       "      <td>2.0</td>\n",
       "      <td>Contact 0</td>\n",
       "    </tr>\n",
       "    <tr>\n",
       "      <th>8</th>\n",
       "      <td>6</td>\n",
       "      <td>1.0</td>\n",
       "      <td>NaN</td>\n",
       "      <td>0.0</td>\n",
       "      <td>NaN</td>\n",
       "      <td>0.0</td>\n",
       "      <td>NaN</td>\n",
       "      <td>2.0</td>\n",
       "      <td>NaN</td>\n",
       "      <td>0</td>\n",
       "      <td>NaN</td>\n",
       "      <td>2.5</td>\n",
       "      <td>Contact 0</td>\n",
       "    </tr>\n",
       "    <tr>\n",
       "      <th>9</th>\n",
       "      <td>7</td>\n",
       "      <td>1.0</td>\n",
       "      <td>NaN</td>\n",
       "      <td>0.0</td>\n",
       "      <td>NaN</td>\n",
       "      <td>0.0</td>\n",
       "      <td>NaN</td>\n",
       "      <td>3.0</td>\n",
       "      <td>NaN</td>\n",
       "      <td>0</td>\n",
       "      <td>NaN</td>\n",
       "      <td>3.0</td>\n",
       "      <td>Contact 0</td>\n",
       "    </tr>\n",
       "  </tbody>\n",
       "</table>\n",
       "</div>"
      ],
      "text/plain": [
       "   Test  L Finger Tap  R Finger Tap  L Rigidity  R Rigidity  L Rest Trem  \\\n",
       "0     0           2.0           3.0         2.0         1.0          2.0   \n",
       "1     1           2.0           3.0         2.0         1.0          2.0   \n",
       "2    64           2.0           2.0         0.0         0.0          0.0   \n",
       "3    65           2.0           1.0         0.0         0.0          0.0   \n",
       "4     2           2.0           NaN         2.0         NaN          1.0   \n",
       "5     3           2.0           NaN         1.0         NaN          0.0   \n",
       "6     4           1.0           NaN         0.0         NaN          0.0   \n",
       "7     5           1.0           NaN         0.0         NaN          0.0   \n",
       "8     6           1.0           NaN         0.0         NaN          0.0   \n",
       "9     7           1.0           NaN         0.0         NaN          0.0   \n",
       "\n",
       "   R Rest Trem  Speech  Spiral  Notes Time  Param Sheet Name  \n",
       "0          1.0     2.0     0.0     -2  NaN    NaN   Baseline  \n",
       "1          1.0     2.0     NaN      2  NaN    NaN   Baseline  \n",
       "2          0.0     2.0     NaN      2  NaN    NaN   Baseline  \n",
       "3          0.0     2.0     NaN      3  NaN    NaN   Baseline  \n",
       "4          NaN     2.0     NaN      0  NaN    0.5  Contact 0  \n",
       "5          NaN     2.0     NaN      0  NaN    1.0  Contact 0  \n",
       "6          NaN     2.0     NaN      0  NaN    1.5  Contact 0  \n",
       "7          NaN     2.0     NaN      0  NaN    2.0  Contact 0  \n",
       "8          NaN     2.0     NaN      0  NaN    2.5  Contact 0  \n",
       "9          NaN     3.0     NaN      0  NaN    3.0  Contact 0  "
      ]
     },
     "execution_count": 51,
     "metadata": {},
     "output_type": "execute_result"
    }
   ],
   "source": [
    "STN1_df.head(10)"
   ]
  },
  {
   "cell_type": "code",
   "execution_count": 18,
   "metadata": {},
   "outputs": [
    {
     "data": {
      "image/png": "[encoded data removed]",
      "text/plain": [
       "<Figure size 1000x600 with 1 Axes>"
      ]
     },
     "metadata": {},
     "output_type": "display_data"
    }
   ],
   "source": [
    "temporal_graph(STN1_df, 'Contact 10', 'Speech')"
   ]
  },
  {
   "cell_type": "code",
   "execution_count": 19,
   "metadata": {},
   "outputs": [
    {
     "data": {
      "image/png": "[encoded data removed]",
      "text/plain": [
       "<Figure size 2000x800 with 7 Axes>"
      ]
     },
     "metadata": {},
     "output_type": "display_data"
    }
   ],
   "source": [
    "simple_barplot(STN1_df, np.concatenate((STN1_df.columns[1:7].values, STN1_df.columns[11:12].values)))"
   ]
  },
  {
   "cell_type": "markdown",
   "metadata": {},
   "source": [
    "# Analysis"
   ]
  },
  {
   "cell_type": "markdown",
   "metadata": {},
   "source": [
    "Overarching Goal: Create a virtual patient model\n",
    "\n",
    "Ideas:\n",
    "- Data compression/ Evaluate number of inputs needed\n",
    "- Autoencoder latent representation\n",
    "- Controlled level of noisiness vs. accuracy (i.e differential privary)"
   ]
  },
  {
   "cell_type": "markdown",
   "metadata": {},
   "source": [
    "Legend for values of side effects:\n",
    "\n",
    " 0: No side effects\n",
    "\n",
    " 1: Side effect\n",
    "\n",
    " -2: Baseline off\n",
    "\n",
    " 2: Baseline on\n",
    "\n",
    " 3: Session's best / Baseline new\n",
    " \n",
    "\n",
    "#TODO: Ask Juan about 'Baseline new'\n"
   ]
  },
  {
   "cell_type": "markdown",
   "metadata": {},
   "source": [
    "## Data pre-processing\n",
    "\n",
    "#TODO: Ask Juan about 2.3.4, or 6.7.8 Param entries...\n",
    "\n",
    "Pre-processing steps:\n",
    "1. Convert None, 0-4 scales -> 0-5 scales\n",
    "2. Remove time, sheet name and test columns."
   ]
  },
  {
   "cell_type": "code",
   "execution_count": 52,
   "metadata": {},
   "outputs": [
    {
     "data": {
      "text/plain": [
       "Index(['Test', 'L Finger Tap', 'R Finger Tap', 'L Rigidity', 'R Rigidity',\n",
       "       'L Rest Trem', 'R Rest Trem', 'Speech', 'Spiral', 'Notes', 'Time',\n",
       "       'Param', 'Sheet Name'],\n",
       "      dtype='object')"
      ]
     },
     "execution_count": 52,
     "metadata": {},
     "output_type": "execute_result"
    }
   ],
   "source": [
    "STN1_df.columns"
   ]
  },
  {
   "cell_type": "code",
   "execution_count": 66,
   "metadata": {},
   "outputs": [],
   "source": [
    "def preprocess_df(df):\n",
    "    \n",
    "    preprocessed_df = df.copy()\n",
    "\n",
    "    # Step 1: Add +1 if the entry is not empty\n",
    "    for col in ['L Finger Tap', 'R Finger Tap', 'L Rigidity', 'R Rigidity',\n",
    "       'L Rest Trem', 'R Rest Trem']:\n",
    "        \n",
    "        preprocessed_df[col] = preprocessed_df[col].apply(lambda x: x + 1 if pd.notna(x) and x != 'NaN' else x)\n",
    "\n",
    "    # Step 2: Replace None and empty values with 0\n",
    "    preprocessed_df.fillna(0, inplace=True)\n",
    "\n",
    "\n",
    "    preprocessed_df = preprocessed_df[['L Finger Tap', 'R Finger Tap', 'L Rigidity', 'R Rigidity',\n",
    "       'L Rest Trem', 'R Rest Trem', 'Speech', 'Spiral', 'Notes',\n",
    "       'Param']]\n",
    "\n",
    "    return preprocessed_df"
   ]
  },
  {
   "cell_type": "code",
   "execution_count": 68,
   "metadata": {},
   "outputs": [],
   "source": [
    "STN1_df = preprocess_df(STN1_df)\n",
    "STN2_df = preprocess_df(STN2_df)\n",
    "STN3_df = preprocess_df(STN3_df)\n",
    "STN4_df = preprocess_df(STN4_df)\n",
    "STN5_df = preprocess_df(STN5_df)\n",
    "STN6_df = preprocess_df(STN6_df)"
   ]
  },
  {
   "cell_type": "markdown",
   "metadata": {},
   "source": [
    "## model"
   ]
  },
  {
   "cell_type": "markdown",
   "metadata": {},
   "source": [
    "Considerations:\n",
    "\n",
    "1. Do PCA analysis to see if you can derive useful inputs\n",
    "2. The number of components will guide to consider how many inputs you need... train on (x1, x2, ...., xk, side effect, spiral), but model will have patient(amplitude param) -> side effect, spiral\n",
    "3. Autoencoder?\n",
    "4. F-tests and ANOVA tables for your best models"
   ]
  }
 ],
 "metadata": {
  "kernelspec": {
   "display_name": "GPBO",
   "language": "python",
   "name": "python3"
  },
  "language_info": {
   "codemirror_mode": {
    "name": "ipython",
    "version": 3
   },
   "file_extension": ".py",
   "mimetype": "text/x-python",
   "name": "python",
   "nbconvert_exporter": "python",
   "pygments_lexer": "ipython3",
   "version": "3.12.8"
  }
 },
 "nbformat": 4,
 "nbformat_minor": 2
}
